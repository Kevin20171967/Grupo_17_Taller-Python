{
  "nbformat": 4,
  "nbformat_minor": 0,
  "metadata": {
    "colab": {
      "provenance": []
    },
    "kernelspec": {
      "name": "python3",
      "display_name": "Python 3"
    },
    "language_info": {
      "name": "python"
    }
  },
  "cells": [
    {
      "cell_type": "markdown",
      "source": [
        "**1.**"
      ],
      "metadata": {
        "id": "fwr2piuP2Wey"
      }
    },
    {
      "cell_type": "markdown",
      "source": [
        "*Opción 1:*"
      ],
      "metadata": {
        "id": "vsCyN2vr7_JQ"
      }
    },
    {
      "cell_type": "code",
      "execution_count": null,
      "metadata": {
        "colab": {
          "base_uri": "https://localhost:8080/"
        },
        "id": "ZIA8hNyXvaFc",
        "outputId": "add5a467-9c63-40f5-f34d-fc2f18c45bc3"
      },
      "outputs": [
        {
          "output_type": "stream",
          "name": "stdout",
          "text": [
            "Número: 6\n",
            "6 es múltiplo de 2 y 3\n"
          ]
        }
      ],
      "source": [
        "def multiplo():\n",
        "    x = int(input(\"Número: \"))\n",
        "\n",
        "    if x % 2 == 0 and x % 3 == 0:\n",
        "        output = f\"{x} es múltiplo de 2 y 3\"\n",
        "    elif x % 2 == 0:\n",
        "        output = f\"{x} es múltiplo de 2\"\n",
        "    elif x % 3 == 0:\n",
        "        output = f\"{x} es múltiplo de 3\"\n",
        "    else:\n",
        "        output = \"Otro caso\"\n",
        "\n",
        "    return output\n",
        "\n",
        "print(multiplo())"
      ]
    },
    {
      "cell_type": "markdown",
      "source": [
        "*Opción 2*"
      ],
      "metadata": {
        "id": "OnH_VX1N8Fij"
      }
    },
    {
      "cell_type": "code",
      "source": [
        "x = 6\n",
        "if x % 2 == 0 and x % 3 == 0:\n",
        "    print(\"Es múltiplo de 2 y 3\")\n",
        "elif x % 2 == 0:\n",
        "    print(\"Es múltiplo de 2\")\n",
        "elif x % 3 == 0:\n",
        "    print(\"Es múltiplo de 3\")\n",
        "else:\n",
        "    print(\"Otro caso\")\n"
      ],
      "metadata": {
        "colab": {
          "base_uri": "https://localhost:8080/"
        },
        "id": "f8IZf4ts7dne",
        "outputId": "588296ec-d070-438d-ea63-f10a5d816624"
      },
      "execution_count": null,
      "outputs": [
        {
          "output_type": "stream",
          "name": "stdout",
          "text": [
            "Es múltiplo de 2 y 3\n"
          ]
        }
      ]
    },
    {
      "cell_type": "markdown",
      "source": [
        "**2.**"
      ],
      "metadata": {
        "id": "BNcrKF2e6JcR"
      }
    },
    {
      "cell_type": "code",
      "source": [
        "num = list(range(1, 101))\n",
        "\n",
        "for x in num:\n",
        "    if x % 5 == 0 and x % 3 == 0:\n",
        "        print(\"FizzBuzz\")\n",
        "    elif x % 5 == 0:\n",
        "        print(\"Buzz\")\n",
        "    elif x % 3 == 0:\n",
        "        print(\"Fizz\")\n",
        "    else:\n",
        "        print(x)"
      ],
      "metadata": {
        "colab": {
          "base_uri": "https://localhost:8080/"
        },
        "id": "u_mRYXnW-F5e",
        "outputId": "20b30b83-9d7c-46b6-b551-d23b3d047133"
      },
      "execution_count": null,
      "outputs": [
        {
          "output_type": "stream",
          "name": "stdout",
          "text": [
            "1\n",
            "2\n",
            "Fizz\n",
            "4\n",
            "Buzz\n",
            "Fizz\n",
            "7\n",
            "8\n",
            "Fizz\n",
            "Buzz\n",
            "11\n",
            "Fizz\n",
            "13\n",
            "14\n",
            "FizzBuzz\n",
            "16\n",
            "17\n",
            "Fizz\n",
            "19\n",
            "Buzz\n",
            "Fizz\n",
            "22\n",
            "23\n",
            "Fizz\n",
            "Buzz\n",
            "26\n",
            "Fizz\n",
            "28\n",
            "29\n",
            "FizzBuzz\n",
            "31\n",
            "32\n",
            "Fizz\n",
            "34\n",
            "Buzz\n",
            "Fizz\n",
            "37\n",
            "38\n",
            "Fizz\n",
            "Buzz\n",
            "41\n",
            "Fizz\n",
            "43\n",
            "44\n",
            "FizzBuzz\n",
            "46\n",
            "47\n",
            "Fizz\n",
            "49\n",
            "Buzz\n",
            "Fizz\n",
            "52\n",
            "53\n",
            "Fizz\n",
            "Buzz\n",
            "56\n",
            "Fizz\n",
            "58\n",
            "59\n",
            "FizzBuzz\n",
            "61\n",
            "62\n",
            "Fizz\n",
            "64\n",
            "Buzz\n",
            "Fizz\n",
            "67\n",
            "68\n",
            "Fizz\n",
            "Buzz\n",
            "71\n",
            "Fizz\n",
            "73\n",
            "74\n",
            "FizzBuzz\n",
            "76\n",
            "77\n",
            "Fizz\n",
            "79\n",
            "Buzz\n",
            "Fizz\n",
            "82\n",
            "83\n",
            "Fizz\n",
            "Buzz\n",
            "86\n",
            "Fizz\n",
            "88\n",
            "89\n",
            "FizzBuzz\n",
            "91\n",
            "92\n",
            "Fizz\n",
            "94\n",
            "Buzz\n",
            "Fizz\n",
            "97\n",
            "98\n",
            "Fizz\n",
            "Buzz\n"
          ]
        }
      ]
    },
    {
      "cell_type": "markdown",
      "source": [
        "**3.**"
      ],
      "metadata": {
        "id": "pvYftcet-50s"
      }
    },
    {
      "cell_type": "markdown",
      "source": [
        "*Opción 1*"
      ],
      "metadata": {
        "id": "tRYgXrwUCg6h"
      }
    },
    {
      "cell_type": "code",
      "source": [
        "def calcular_descuento():\n",
        "    x = float(input(\"Monto de la compra: \"))\n",
        "\n",
        "    if x>=1000:\n",
        "        output = x*0.8\n",
        "    elif x<1000 and x>=500:\n",
        "        output = x*0.9\n",
        "    else:\n",
        "        output = x\n",
        "\n",
        "    return output\n",
        "\n",
        "print(\"Deberá pagar\",calcular_descuento(),)"
      ],
      "metadata": {
        "colab": {
          "base_uri": "https://localhost:8080/"
        },
        "id": "vz6XLbaaB4VM",
        "outputId": "0d8afce9-2676-4f0d-b879-fd839ad80527"
      },
      "execution_count": null,
      "outputs": [
        {
          "output_type": "stream",
          "name": "stdout",
          "text": [
            "Monto de la compra: 1000\n",
            "Deberá pagar 800.0\n"
          ]
        }
      ]
    },
    {
      "cell_type": "markdown",
      "source": [
        "*Opción 2*"
      ],
      "metadata": {
        "id": "x4Md_d40Cj30"
      }
    },
    {
      "cell_type": "code",
      "source": [
        "def calcular_descuento(x):\n",
        "\n",
        "    if x>=1000:\n",
        "        output = x*0.8\n",
        "    elif x<1000 and x>=500:\n",
        "        output = x*0.9\n",
        "    else:\n",
        "        output = x\n",
        "\n",
        "    return output\n",
        "\n",
        "print(calcular_descuento(1200))\n",
        "print(calcular_descuento(750))\n",
        "print(calcular_descuento(300))\n"
      ],
      "metadata": {
        "colab": {
          "base_uri": "https://localhost:8080/"
        },
        "id": "-Xdm6OCf46bY",
        "outputId": "7627f2b5-8a67-4193-9eac-f2e5b18aa861"
      },
      "execution_count": null,
      "outputs": [
        {
          "output_type": "stream",
          "name": "stdout",
          "text": [
            "960.0\n",
            "675.0\n",
            "300\n"
          ]
        }
      ]
    },
    {
      "cell_type": "markdown",
      "source": [
        "**4.**"
      ],
      "metadata": {
        "id": "PIorNDqcC0Oe"
      }
    },
    {
      "cell_type": "markdown",
      "source": [
        "*Opción 1*"
      ],
      "metadata": {
        "id": "oXnO1spqJdeU"
      }
    },
    {
      "cell_type": "code",
      "source": [
        "#modelo simple\n",
        "\n",
        "def clasificar_edad(x):\n",
        "    if 0 <= x <= 12:\n",
        "        print(\"Niño\")\n",
        "    elif 13 <= x <= 17:\n",
        "        print(\"Adolescente\")\n",
        "    elif 18 <= x <= 24:\n",
        "        print(\"Joven\")\n",
        "    elif 25 <= x <= 64:\n",
        "        print(\"Adulto\")\n",
        "    elif x > 64:\n",
        "        print(\"Adulto mayor\")\n",
        "    else:\n",
        "        print(\"Edad no válida\")\n",
        "\n",
        "clasificar_edad(10)\n",
        "clasificar_edad(19)\n",
        "clasificar_edad(25)\n",
        "clasificar_edad(70)\n"
      ],
      "metadata": {
        "colab": {
          "base_uri": "https://localhost:8080/"
        },
        "id": "r6-trhJ7C2_-",
        "outputId": "8ff7ecf6-0e31-47d7-ed55-fc1c61233b54"
      },
      "execution_count": null,
      "outputs": [
        {
          "output_type": "stream",
          "name": "stdout",
          "text": [
            "Niño\n",
            "Joven\n",
            "Adulto\n",
            "Adulto mayor\n"
          ]
        }
      ]
    },
    {
      "cell_type": "markdown",
      "source": [
        "*Opción 2*"
      ],
      "metadata": {
        "id": "F_RmKMcHJgE8"
      }
    },
    {
      "cell_type": "code",
      "source": [
        "def clasificar_edad():\n",
        "    x = input(\"Edad: \")\n",
        "\n",
        "    if not x.isdigit() or int(x) < 0:\n",
        "        print(\"Introducir una edad válida\")\n",
        "        return  #una chiki\n",
        "\n",
        "    x = int(x)\n",
        "\n",
        "    if x < 12:\n",
        "        print(\"Niño\")\n",
        "    elif 13 <= x <= 17:\n",
        "        print(\"Adolescente\")\n",
        "    elif 18 <= x <= 24:\n",
        "        print(\"Joven\")\n",
        "    elif 25 <= x <= 64:\n",
        "        print(\"Adulto\")\n",
        "    else:\n",
        "        print(\"Adulto mayor\")\n",
        "\n",
        "clasificar_edad()"
      ],
      "metadata": {
        "colab": {
          "base_uri": "https://localhost:8080/"
        },
        "id": "wPqz_WbzDhlu",
        "outputId": "2c55726f-4c0a-47f6-ae86-232703a71450"
      },
      "execution_count": null,
      "outputs": [
        {
          "output_type": "stream",
          "name": "stdout",
          "text": [
            "Edad: 150\n",
            "Adulto mayor\n"
          ]
        }
      ]
    },
    {
      "cell_type": "markdown",
      "source": [
        "**5.**"
      ],
      "metadata": {
        "id": "WGREJ1gVNKW_"
      }
    },
    {
      "cell_type": "code",
      "source": [
        "def calcular_craest()"
      ],
      "metadata": {
        "id": "86RhBhDHNJ8i"
      },
      "execution_count": null,
      "outputs": []
    },
    {
      "cell_type": "code",
      "source": [
        "def calcular_craest(media_personal, media_curso, desviacion_curso):\n",
        "    '''\n",
        "    Objetivo:\n",
        "        - Determinar craest\n",
        "\n",
        "    Input:\n",
        "        - media_personal: media del alumno en el curso\n",
        "        - media_curso: media general del curso\n",
        "        - desviacion_curso: desviación estándar del curso\n",
        "\n",
        "    Procedimiento:\n",
        "        - Aplicación de la siguiente fórmula: ((media_personal-media_curso)*10)/desviacion_curso +50\n",
        "\n",
        "    Output:\n",
        "        - Craest\n",
        "    '''\n",
        "    craest = ((media_personal - media_curso) * 10) / desviacion_curso + 50\n",
        "    return craest\n"
      ],
      "metadata": {
        "id": "cYEvk7gAqc1h"
      },
      "execution_count": null,
      "outputs": []
    },
    {
      "cell_type": "code",
      "source": [
        "media_personal_1= 19\n",
        "media_curso_1= 16\n",
        "desviacion_curso_1= 2.5\n",
        "\n",
        "calcular_craest(media_personal_1,media_curso_1,desviacion_curso_1)"
      ],
      "metadata": {
        "colab": {
          "base_uri": "https://localhost:8080/"
        },
        "id": "xyVNvkjms0B6",
        "outputId": "7285db2f-12d0-40ef-82df-3236df7cebf6"
      },
      "execution_count": null,
      "outputs": [
        {
          "output_type": "execute_result",
          "data": {
            "text/plain": [
              "62.0"
            ]
          },
          "metadata": {},
          "execution_count": 27
        }
      ]
    }
  ]
}